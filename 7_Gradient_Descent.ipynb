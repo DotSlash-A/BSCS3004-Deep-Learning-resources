{
 "cells": [
  {
   "cell_type": "markdown",
   "metadata": {},
   "source": [
    "### **Gradient Descent**\n",
    "$$\n",
    "\\textbf{w} = \\textbf{w} - \\eta\\nabla\\mathscr{L}_{\\textbf{w}} \\\\[10pt]\n",
    "b = b - \\eta\\nabla\\mathscr{L}_{\\textbf{b}}\n",
    "$$\n",
    "$\\eta$ is called learning rate, $\\nabla\\mathscr{L}_{\\textbf{w}}$ is the gradient of loss $\\mathscr{L}$ w.r.t. $\\textbf{w}$, similar for $b$"
   ]
  },
  {
   "cell_type": "markdown",
   "metadata": {},
   "source": [
    "- Gradient descent is the main component of back propagation\n",
    "  - Well not exactly Gradient Descent in most cases, but a variant of it\n",
    "- Weight update happens once per epoch"
   ]
  },
  {
   "cell_type": "markdown",
   "metadata": {},
   "source": [
    "### **Stochastic Gradient Descent**\n",
    "- Weight update happens for every training example for each epoch"
   ]
  },
  {
   "cell_type": "markdown",
   "metadata": {},
   "source": [
    "### **Minibatch Gradient Descent**\n",
    "- Updates happens in batches, not as frequenct as SGD nor as sparse as gradient descent\n",
    "- Less noisy loss compared to SGD\n",
    "- Faster than gradient descent because more than 1 update per epoch\n",
    "- Better GPU utilization than SGD by using Linear Algebra concepts (matrix multiplication)"
   ]
  },
  {
   "cell_type": "markdown",
   "metadata": {},
   "source": [
    "### **Automatic differentiation in PyTorch**"
   ]
  },
  {
   "cell_type": "code",
   "execution_count": 5,
   "metadata": {},
   "outputs": [],
   "source": [
    "import torch\n",
    "import torch.nn.functional as F"
   ]
  },
  {
   "cell_type": "code",
   "execution_count": 2,
   "metadata": {},
   "outputs": [],
   "source": [
    "# Model parameters\n",
    "w = torch.tensor([0.23], requires_grad = True)\n",
    "b = torch.tensor([0.1], requires_grad = True)\n",
    "\n",
    "# Inputs and targets\n",
    "x = torch.tensor([1.23])\n",
    "y = torch.tensor([1.])"
   ]
  },
  {
   "cell_type": "code",
   "execution_count": 3,
   "metadata": {},
   "outputs": [
    {
     "data": {
      "text/plain": [
       "tensor([0.3829], grad_fn=<AddBackward0>)"
      ]
     },
     "execution_count": 3,
     "metadata": {},
     "output_type": "execute_result"
    }
   ],
   "source": [
    "# Weighted sum\n",
    "z = w * x + b\n",
    "z"
   ]
  },
  {
   "cell_type": "code",
   "execution_count": 4,
   "metadata": {},
   "outputs": [
    {
     "data": {
      "text/plain": [
       "tensor([0.5946], grad_fn=<SigmoidBackward0>)"
      ]
     },
     "execution_count": 4,
     "metadata": {},
     "output_type": "execute_result"
    }
   ],
   "source": [
    "# Activation function\n",
    "a = torch.sigmoid(z)\n",
    "a"
   ]
  },
  {
   "cell_type": "code",
   "execution_count": 6,
   "metadata": {},
   "outputs": [
    {
     "data": {
      "text/plain": [
       "tensor(0.5199, grad_fn=<BinaryCrossEntropyBackward0>)"
      ]
     },
     "execution_count": 6,
     "metadata": {},
     "output_type": "execute_result"
    }
   ],
   "source": [
    "# Loss function in Logistic Regression (negative log likelihood/binary crossentropy)\n",
    "loss = F.binary_cross_entropy(a, y)\n",
    "loss"
   ]
  },
  {
   "cell_type": "markdown",
   "metadata": {},
   "source": [
    "**It's a good practice to NOT use binary crossentropy in PyTorch and instead use binary crossentropy with logits loss**\n",
    "- What are logits?\n",
    "  - It is the net inputs of logistic regression model\n",
    "  - In simple words, feed in the weighted sum and not the output of activation function\n",
    "  - It will take care of activation function\n",
    "  - This is just for computational efficiency reasons and numerical stability, but the results are same"
   ]
  },
  {
   "cell_type": "code",
   "execution_count": 8,
   "metadata": {},
   "outputs": [
    {
     "data": {
      "text/plain": [
       "tensor(0.5199, grad_fn=<BinaryCrossEntropyWithLogitsBackward0>)"
      ]
     },
     "execution_count": 8,
     "metadata": {},
     "output_type": "execute_result"
    }
   ],
   "source": [
    "loss = F.binary_cross_entropy_with_logits(z, y)\n",
    "loss"
   ]
  },
  {
   "cell_type": "markdown",
   "metadata": {},
   "source": [
    "#### **Now, to use the automatic differentiation of PyTorch**"
   ]
  },
  {
   "cell_type": "code",
   "execution_count": 9,
   "metadata": {},
   "outputs": [],
   "source": [
    "from torch.autograd import grad"
   ]
  },
  {
   "cell_type": "markdown",
   "metadata": {},
   "source": [
    "We use `retain_graph = True` to keep the computation graph (backpropagation) in memory, otherwise PyTorch will deconstruct the computation graph we previously built."
   ]
  },
  {
   "cell_type": "markdown",
   "metadata": {},
   "source": [
    "$$\n",
    "\\frac{\\partial \\mathscr{L}}{\\partial w}\n",
    "$$"
   ]
  },
  {
   "cell_type": "code",
   "execution_count": 10,
   "metadata": {},
   "outputs": [
    {
     "data": {
      "text/plain": [
       "(tensor([-0.4987]),)"
      ]
     },
     "execution_count": 10,
     "metadata": {},
     "output_type": "execute_result"
    }
   ],
   "source": [
    "grad_L_w = grad(loss, w, retain_graph = True)\n",
    "grad_L_w"
   ]
  },
  {
   "cell_type": "markdown",
   "metadata": {},
   "source": [
    "$$\n",
    "\\frac{\\partial \\mathscr{L}}{\\partial b}\n",
    "$$"
   ]
  },
  {
   "cell_type": "code",
   "execution_count": 11,
   "metadata": {},
   "outputs": [
    {
     "data": {
      "text/plain": [
       "(tensor([-0.4054]),)"
      ]
     },
     "execution_count": 11,
     "metadata": {},
     "output_type": "execute_result"
    }
   ],
   "source": [
    "grad_L_b = grad(loss, b, retain_graph = True)\n",
    "grad_L_b"
   ]
  },
  {
   "cell_type": "markdown",
   "metadata": {},
   "source": [
    "**Or, we can use something even more convenient**"
   ]
  },
  {
   "cell_type": "code",
   "execution_count": 12,
   "metadata": {},
   "outputs": [],
   "source": [
    "loss.backward()"
   ]
  },
  {
   "cell_type": "code",
   "execution_count": 13,
   "metadata": {},
   "outputs": [
    {
     "data": {
      "text/plain": [
       "(tensor([-0.4987]), tensor([-0.4054]))"
      ]
     },
     "execution_count": 13,
     "metadata": {},
     "output_type": "execute_result"
    }
   ],
   "source": [
    "w.grad, b.grad"
   ]
  }
 ],
 "metadata": {
  "kernelspec": {
   "display_name": "py310",
   "language": "python",
   "name": "python3"
  },
  "language_info": {
   "codemirror_mode": {
    "name": "ipython",
    "version": 3
   },
   "file_extension": ".py",
   "mimetype": "text/x-python",
   "name": "python",
   "nbconvert_exporter": "python",
   "pygments_lexer": "ipython3",
   "version": "3.10.12"
  },
  "orig_nbformat": 4
 },
 "nbformat": 4,
 "nbformat_minor": 2
}
