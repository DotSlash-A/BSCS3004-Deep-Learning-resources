{
 "cells": [
  {
   "cell_type": "markdown",
   "metadata": {},
   "source": [
    "### **Logistic Regression**\n",
    "- Pass the weighted sum of inputs through an activation function\n",
    "- Logistic Regression always converges\n",
    "- Most commonly used baseline in Deep Learning"
   ]
  },
  {
   "cell_type": "markdown",
   "metadata": {},
   "source": [
    "#### **Activation function: sigmoid function**\n",
    "\n",
    "$$\n",
    "\\sigma(z) = \\frac{1}{1 + e^{-z}}\n",
    "$$"
   ]
  },
  {
   "cell_type": "markdown",
   "metadata": {},
   "source": [
    "### **Train model parameters**\n",
    "\n",
    "- Weights and biases are considered as model parameters\n",
    "$$\n",
    "z = w_{1} \\cdot x_{1} + b \\\\[10pt]\n",
    "$$\n",
    "$$\n",
    "a = \\sigma(z) \\\\[10pt]\n",
    "$$\n",
    "$$\n",
    "loss = \\mathscr{L}(a, y)\n",
    "$$\n",
    "where $a$ is the predicted value, and $y$ is the true value"
   ]
  },
  {
   "cell_type": "markdown",
   "metadata": {},
   "source": [
    "### **Back-propagate**\n",
    "\n",
    "- To update $w_{1}$\n",
    "$$\n",
    "\\frac{\\partial \\mathscr{L}}{\\partial w_{1}} = \\frac{\\partial \\mathscr{L}}{\\partial a} \\cdot \\frac{\\partial a}{\\partial z} \\cdot \\frac{\\partial z}{\\partial w_{1}}\n",
    "$$\n",
    "This can also be referred to as **\"computation graph\"**"
   ]
  }
 ],
 "metadata": {
  "kernelspec": {
   "display_name": "py310",
   "language": "python",
   "name": "python3"
  },
  "language_info": {
   "name": "python",
   "version": "3.10.12"
  },
  "orig_nbformat": 4
 },
 "nbformat": 4,
 "nbformat_minor": 2
}
