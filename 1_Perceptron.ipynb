{
 "cells": [
  {
   "cell_type": "code",
   "execution_count": 46,
   "metadata": {},
   "outputs": [],
   "source": [
    "import numpy as np\n",
    "import pandas as pd\n",
    "import matplotlib.pyplot as plt"
   ]
  },
  {
   "cell_type": "code",
   "execution_count": 47,
   "metadata": {},
   "outputs": [],
   "source": [
    "df = pd.read_csv(\"./data.txt\", sep = \"\\t\")"
   ]
  },
  {
   "cell_type": "code",
   "execution_count": 48,
   "metadata": {},
   "outputs": [
    {
     "data": {
      "text/html": [
       "<div>\n",
       "<style scoped>\n",
       "    .dataframe tbody tr th:only-of-type {\n",
       "        vertical-align: middle;\n",
       "    }\n",
       "\n",
       "    .dataframe tbody tr th {\n",
       "        vertical-align: top;\n",
       "    }\n",
       "\n",
       "    .dataframe thead th {\n",
       "        text-align: right;\n",
       "    }\n",
       "</style>\n",
       "<table border=\"1\" class=\"dataframe\">\n",
       "  <thead>\n",
       "    <tr style=\"text-align: right;\">\n",
       "      <th></th>\n",
       "      <th>x1</th>\n",
       "      <th>x2</th>\n",
       "      <th>label</th>\n",
       "    </tr>\n",
       "  </thead>\n",
       "  <tbody>\n",
       "    <tr>\n",
       "      <th>0</th>\n",
       "      <td>0.77</td>\n",
       "      <td>-1.14</td>\n",
       "      <td>0</td>\n",
       "    </tr>\n",
       "    <tr>\n",
       "      <th>1</th>\n",
       "      <td>-0.33</td>\n",
       "      <td>1.44</td>\n",
       "      <td>0</td>\n",
       "    </tr>\n",
       "    <tr>\n",
       "      <th>2</th>\n",
       "      <td>0.91</td>\n",
       "      <td>-3.07</td>\n",
       "      <td>0</td>\n",
       "    </tr>\n",
       "    <tr>\n",
       "      <th>3</th>\n",
       "      <td>-0.37</td>\n",
       "      <td>-1.91</td>\n",
       "      <td>0</td>\n",
       "    </tr>\n",
       "    <tr>\n",
       "      <th>4</th>\n",
       "      <td>-0.63</td>\n",
       "      <td>-1.53</td>\n",
       "      <td>0</td>\n",
       "    </tr>\n",
       "  </tbody>\n",
       "</table>\n",
       "</div>"
      ],
      "text/plain": [
       "     x1    x2  label\n",
       "0  0.77 -1.14      0\n",
       "1 -0.33  1.44      0\n",
       "2  0.91 -3.07      0\n",
       "3 -0.37 -1.91      0\n",
       "4 -0.63 -1.53      0"
      ]
     },
     "execution_count": 48,
     "metadata": {},
     "output_type": "execute_result"
    }
   ],
   "source": [
    "df.head()"
   ]
  },
  {
   "cell_type": "markdown",
   "metadata": {},
   "source": [
    "### **Isolate the features and labels**"
   ]
  },
  {
   "cell_type": "code",
   "execution_count": 49,
   "metadata": {},
   "outputs": [],
   "source": [
    "X_train = df[[\"x1\", \"x2\"]].values\n",
    "y_train = df[\"label\"].values"
   ]
  },
  {
   "cell_type": "code",
   "execution_count": 50,
   "metadata": {},
   "outputs": [
    {
     "data": {
      "text/plain": [
       "((20, 2), (20,))"
      ]
     },
     "execution_count": 50,
     "metadata": {},
     "output_type": "execute_result"
    }
   ],
   "source": [
    "X_train.shape, y_train.shape"
   ]
  },
  {
   "cell_type": "code",
   "execution_count": 51,
   "metadata": {},
   "outputs": [
    {
     "data": {
      "image/png": "[encoded data removed]",
      "text/plain": [
       "<Figure size 640x480 with 1 Axes>"
      ]
     },
     "metadata": {},
     "output_type": "display_data"
    }
   ],
   "source": [
    "plt.plot(\n",
    "  X_train[y_train == 0, 0],\n",
    "  X_train[y_train == 0, 1],\n",
    "  marker = \"D\",\n",
    "  markersize = 10,\n",
    "  linestyle = \"\",\n",
    "  label = \"Class 0\"\n",
    ")\n",
    "\n",
    "plt.plot(\n",
    "  X_train[y_train == 1, 0],\n",
    "  X_train[y_train == 1, 1],\n",
    "  marker = \"^\",\n",
    "  markersize = 13,\n",
    "  linestyle = \"\",\n",
    "  label = \"Class 1\"\n",
    ")\n",
    "\n",
    "plt.legend(loc = 2)\n",
    "\n",
    "plt.xlim([-5, 5])\n",
    "plt.ylim([-5, 5])\n",
    "\n",
    "plt.xlabel(\"Feature $x_1$\", fontsize = 12)\n",
    "plt.ylabel(\"Feature $x_2$\", fontsize = 12)\n",
    "\n",
    "plt.grid()\n",
    "plt.show()"
   ]
  },
  {
   "cell_type": "markdown",
   "metadata": {},
   "source": [
    "### **Define a basic perceptron**\n",
    "\n",
    "- A perceptron can be considered as very elementary classifier\n",
    "- It essentially takes the weighted sum of inputs and bias\n",
    "  - Passes it through a step function to output either $1$ or $0$\n",
    "$$\n",
    "z = b + \\textbf{x}\\textbf{w} \\\\[10pt]\n",
    "prediction = \\begin{cases} 1, \\ z \\geq 0.0 \\\\ 0, \\ z \\lt 0.0 \\end{cases}\n",
    "$$"
   ]
  },
  {
   "cell_type": "code",
   "execution_count": 52,
   "metadata": {},
   "outputs": [],
   "source": [
    "class Perceptron:\n",
    "  def __init__(self, num_features):\n",
    "    self.num_features = num_features\n",
    "    self.weights = [0.0 for _ in range(num_features)]\n",
    "    self.bias = 0.0\n",
    "\n",
    "  def forward(self, x):\n",
    "    z = self.bias\n",
    "\n",
    "    for i, _ in enumerate(self.weights):\n",
    "      z += x[i] * self.weights[i]\n",
    "    \n",
    "    prediction = 1 if z > 0.0 else 0\n",
    "    return prediction\n",
    "\n",
    "  def update(self, x, y):\n",
    "    pred = self.forward(x)\n",
    "    error = y - pred\n",
    "\n",
    "    self.bias += error\n",
    "    for i, _ in enumerate(self.weights):\n",
    "      self.weights[i] += error * x[i]\n",
    "    \n",
    "    return error"
   ]
  },
  {
   "cell_type": "code",
   "execution_count": 53,
   "metadata": {},
   "outputs": [
    {
     "data": {
      "text/plain": [
       "1"
      ]
     },
     "execution_count": 53,
     "metadata": {},
     "output_type": "execute_result"
    }
   ],
   "source": [
    "ppn = Perceptron(num_features = 2)\n",
    "\n",
    "x = [1.1, 2.1]\n",
    "ppn.update(x, y = 1)"
   ]
  },
  {
   "cell_type": "code",
   "execution_count": 54,
   "metadata": {},
   "outputs": [
    {
     "data": {
      "text/plain": [
       "([1.1, 2.1], 1.0)"
      ]
     },
     "execution_count": 54,
     "metadata": {},
     "output_type": "execute_result"
    }
   ],
   "source": [
    "ppn.weights, ppn.bias"
   ]
  },
  {
   "cell_type": "code",
   "execution_count": 55,
   "metadata": {},
   "outputs": [],
   "source": [
    "def train(model, x, y, epochs = 10):\n",
    "  for epoch in range(epochs):\n",
    "    error_count = 0\n",
    "\n",
    "    for x_, y_ in zip(x, y):\n",
    "      error = model.update(x_, y_)\n",
    "      error_count += abs(error)\n",
    "    \n",
    "    print(f\"Epoch: {epoch + 1}, errors: {error_count}\")"
   ]
  },
  {
   "cell_type": "code",
   "execution_count": 56,
   "metadata": {},
   "outputs": [
    {
     "name": "stdout",
     "output_type": "stream",
     "text": [
      "Epoch: 1, errors: 1\n",
      "Epoch: 2, errors: 3\n",
      "Epoch: 3, errors: 1\n",
      "Epoch: 4, errors: 0\n",
      "Epoch: 5, errors: 0\n"
     ]
    }
   ],
   "source": [
    "ppn = Perceptron(num_features = 2)\n",
    "train(ppn, X_train, y_train, epochs = 5)"
   ]
  }
 ],
 "metadata": {
  "kernelspec": {
   "display_name": "py310",
   "language": "python",
   "name": "python3"
  },
  "language_info": {
   "codemirror_mode": {
    "name": "ipython",
    "version": 3
   },
   "file_extension": ".py",
   "mimetype": "text/x-python",
   "name": "python",
   "nbconvert_exporter": "python",
   "pygments_lexer": "ipython3",
   "version": "3.10.12"
  },
  "orig_nbformat": 4
 },
 "nbformat": 4,
 "nbformat_minor": 2
}
