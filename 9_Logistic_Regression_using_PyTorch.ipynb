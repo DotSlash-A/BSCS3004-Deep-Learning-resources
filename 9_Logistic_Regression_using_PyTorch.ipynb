{
 "cells": [
  {
   "cell_type": "code",
   "execution_count": 2,
   "metadata": {},
   "outputs": [],
   "source": [
    "import torch\n",
    "import pandas as pd\n",
    "import matplotlib.pyplot as plt"
   ]
  },
  {
   "cell_type": "code",
   "execution_count": 3,
   "metadata": {},
   "outputs": [
    {
     "data": {
      "text/html": [
       "<div>\n",
       "<style scoped>\n",
       "    .dataframe tbody tr th:only-of-type {\n",
       "        vertical-align: middle;\n",
       "    }\n",
       "\n",
       "    .dataframe tbody tr th {\n",
       "        vertical-align: top;\n",
       "    }\n",
       "\n",
       "    .dataframe thead th {\n",
       "        text-align: right;\n",
       "    }\n",
       "</style>\n",
       "<table border=\"1\" class=\"dataframe\">\n",
       "  <thead>\n",
       "    <tr style=\"text-align: right;\">\n",
       "      <th></th>\n",
       "      <th>x1</th>\n",
       "      <th>x2</th>\n",
       "      <th>label</th>\n",
       "    </tr>\n",
       "  </thead>\n",
       "  <tbody>\n",
       "    <tr>\n",
       "      <th>0</th>\n",
       "      <td>0.77</td>\n",
       "      <td>-1.14</td>\n",
       "      <td>0</td>\n",
       "    </tr>\n",
       "    <tr>\n",
       "      <th>1</th>\n",
       "      <td>-0.33</td>\n",
       "      <td>1.44</td>\n",
       "      <td>0</td>\n",
       "    </tr>\n",
       "    <tr>\n",
       "      <th>2</th>\n",
       "      <td>0.91</td>\n",
       "      <td>-3.07</td>\n",
       "      <td>0</td>\n",
       "    </tr>\n",
       "    <tr>\n",
       "      <th>3</th>\n",
       "      <td>-0.37</td>\n",
       "      <td>-1.91</td>\n",
       "      <td>0</td>\n",
       "    </tr>\n",
       "    <tr>\n",
       "      <th>4</th>\n",
       "      <td>-0.63</td>\n",
       "      <td>-1.53</td>\n",
       "      <td>0</td>\n",
       "    </tr>\n",
       "  </tbody>\n",
       "</table>\n",
       "</div>"
      ],
      "text/plain": [
       "     x1    x2  label\n",
       "0  0.77 -1.14      0\n",
       "1 -0.33  1.44      0\n",
       "2  0.91 -3.07      0\n",
       "3 -0.37 -1.91      0\n",
       "4 -0.63 -1.53      0"
      ]
     },
     "execution_count": 3,
     "metadata": {},
     "output_type": "execute_result"
    }
   ],
   "source": [
    "df = pd.read_csv(\"./data.txt\", sep = '\\t')\n",
    "df.head()"
   ]
  },
  {
   "cell_type": "code",
   "execution_count": 4,
   "metadata": {},
   "outputs": [],
   "source": [
    "X_train = df[[\"x1\", \"x2\"]].values\n",
    "y_train = df[\"label\"].values"
   ]
  },
  {
   "cell_type": "markdown",
   "metadata": {},
   "source": [
    "**Normalize the dataset to make the Logistic Regression training smoother**"
   ]
  },
  {
   "cell_type": "code",
   "execution_count": 5,
   "metadata": {},
   "outputs": [],
   "source": [
    "X_train = (X_train - X_train.mean(axis = 0)) / X_train.std(axis = 0)"
   ]
  },
  {
   "cell_type": "code",
   "execution_count": 6,
   "metadata": {},
   "outputs": [
    {
     "data": {
      "image/png": "[encoded data removed]",
      "text/plain": [
       "<Figure size 640x480 with 1 Axes>"
      ]
     },
     "metadata": {},
     "output_type": "display_data"
    }
   ],
   "source": [
    "plt.plot(\n",
    "  X_train[y_train == 0, 0],\n",
    "  X_train[y_train == 0, 1],\n",
    "  marker = \"D\",\n",
    "  markersize = 10,\n",
    "  linestyle = \"\",\n",
    "  label = \"Class 0\"\n",
    ")\n",
    "\n",
    "plt.plot(\n",
    "  X_train[y_train == 1, 0],\n",
    "  X_train[y_train == 1, 1],\n",
    "  marker = \"^\",\n",
    "  markersize = 13,\n",
    "  linestyle = \"\",\n",
    "  label = \"Class 1\"\n",
    ")\n",
    "\n",
    "plt.legend(loc = 2)\n",
    "\n",
    "plt.xlim([-5, 5])\n",
    "plt.ylim([-5, 5])\n",
    "\n",
    "plt.xlabel(\"Feature $x_1$\", fontsize = 12)\n",
    "plt.ylabel(\"Feature $x_2$\", fontsize = 12)\n",
    "\n",
    "plt.grid()\n",
    "plt.show()"
   ]
  },
  {
   "cell_type": "markdown",
   "metadata": {},
   "source": [
    "### **Implement Logistic Regression using Pytorch**"
   ]
  },
  {
   "cell_type": "code",
   "execution_count": 7,
   "metadata": {},
   "outputs": [],
   "source": [
    "class LogisticRegression(torch.nn.Module):\n",
    "  def __init__(self, num_features):\n",
    "    super().__init__()\n",
    "    self.linear = torch.nn.Linear(num_features, 1)\n",
    "\n",
    "  def forward(self, x):\n",
    "    logits = self.linear(x) # `logits` is the technical term for weighted sum\n",
    "    return torch.sigmoid(logits)"
   ]
  },
  {
   "cell_type": "code",
   "execution_count": 12,
   "metadata": {},
   "outputs": [],
   "source": [
    "torch.manual_seed(200)\n",
    "model = LogisticRegression(num_features = 2)"
   ]
  },
  {
   "cell_type": "code",
   "execution_count": 13,
   "metadata": {},
   "outputs": [
    {
     "data": {
      "text/plain": [
       "tensor([0.7006])"
      ]
     },
     "execution_count": 13,
     "metadata": {},
     "output_type": "execute_result"
    }
   ],
   "source": [
    "x = torch.tensor([1.1, 2.1])\n",
    "\n",
    "# Disable the construction of computation graph in the background\n",
    "with torch.no_grad():\n",
    "  proba = model(x)\n",
    "\n",
    "proba"
   ]
  },
  {
   "cell_type": "markdown",
   "metadata": {},
   "source": [
    "### **Defining a DataLoader**"
   ]
  },
  {
   "cell_type": "code",
   "execution_count": 14,
   "metadata": {},
   "outputs": [],
   "source": [
    "from torch.utils.data import Dataset, DataLoader"
   ]
  },
  {
   "cell_type": "code",
   "execution_count": 15,
   "metadata": {},
   "outputs": [],
   "source": [
    "class MyDataset(Dataset):\n",
    "  def __init__(self, x, y):\n",
    "    self.features = torch.tensor(x, dtype = torch.float32)\n",
    "    self.labels = torch.tensor(y, dtype = torch.float32)\n",
    "  \n",
    "  def __getitem__(self, idx):\n",
    "    x = self.features[idx]\n",
    "    y = self.labels[idx]\n",
    "\n",
    "    return x, y\n",
    "  \n",
    "  def __len__(self):\n",
    "    return self.labels.shape[0]"
   ]
  },
  {
   "cell_type": "code",
   "execution_count": 16,
   "metadata": {},
   "outputs": [],
   "source": [
    "train_ds = MyDataset(X_train, y_train)\n",
    "\n",
    "train_loader = DataLoader(\n",
    "  dataset = train_ds,\n",
    "  batch_size = 10,\n",
    "  shuffle = True\n",
    ")"
   ]
  },
  {
   "cell_type": "markdown",
   "metadata": {},
   "source": [
    "### **Train the model**"
   ]
  },
  {
   "cell_type": "code",
   "execution_count": 22,
   "metadata": {},
   "outputs": [],
   "source": [
    "import torch.nn.functional as F"
   ]
  },
  {
   "cell_type": "code",
   "execution_count": 23,
   "metadata": {},
   "outputs": [
    {
     "data": {
      "text/plain": [
       "<torch._C.Generator at 0x7ff31c0c5c50>"
      ]
     },
     "execution_count": 23,
     "metadata": {},
     "output_type": "execute_result"
    }
   ],
   "source": [
    "torch.manual_seed(200)"
   ]
  },
  {
   "cell_type": "code",
   "execution_count": 24,
   "metadata": {},
   "outputs": [],
   "source": [
    "num_epochs = 20\n",
    "model = LogisticRegression(num_features = 2)\n",
    "optimizer = torch.optim.SGD(model.parameters(), lr = 0.05)"
   ]
  },
  {
   "cell_type": "code",
   "execution_count": 26,
   "metadata": {},
   "outputs": [
    {
     "name": "stdout",
     "output_type": "stream",
     "text": [
      "Epochs: 001/020 | Batch 000/002 | Loss: 0.69\n",
      "Epochs: 001/020 | Batch 001/002 | Loss: 0.70\n",
      "Epochs: 002/020 | Batch 000/002 | Loss: 0.74\n",
      "Epochs: 002/020 | Batch 001/002 | Loss: 0.60\n",
      "Epochs: 003/020 | Batch 000/002 | Loss: 0.57\n",
      "Epochs: 003/020 | Batch 001/002 | Loss: 0.70\n",
      "Epochs: 004/020 | Batch 000/002 | Loss: 0.58\n",
      "Epochs: 004/020 | Batch 001/002 | Loss: 0.64\n",
      "Epochs: 005/020 | Batch 000/002 | Loss: 0.48\n",
      "Epochs: 005/020 | Batch 001/002 | Loss: 0.69\n",
      "Epochs: 006/020 | Batch 000/002 | Loss: 0.55\n",
      "Epochs: 006/020 | Batch 001/002 | Loss: 0.57\n",
      "Epochs: 007/020 | Batch 000/002 | Loss: 0.46\n",
      "Epochs: 007/020 | Batch 001/002 | Loss: 0.62\n",
      "Epochs: 008/020 | Batch 000/002 | Loss: 0.49\n",
      "Epochs: 008/020 | Batch 001/002 | Loss: 0.54\n",
      "Epochs: 009/020 | Batch 000/002 | Loss: 0.48\n",
      "Epochs: 009/020 | Batch 001/002 | Loss: 0.51\n",
      "Epochs: 010/020 | Batch 000/002 | Loss: 0.48\n",
      "Epochs: 010/020 | Batch 001/002 | Loss: 0.48\n",
      "Epochs: 011/020 | Batch 000/002 | Loss: 0.53\n",
      "Epochs: 011/020 | Batch 001/002 | Loss: 0.39\n",
      "Epochs: 012/020 | Batch 000/002 | Loss: 0.49\n",
      "Epochs: 012/020 | Batch 001/002 | Loss: 0.40\n",
      "Epochs: 013/020 | Batch 000/002 | Loss: 0.42\n",
      "Epochs: 013/020 | Batch 001/002 | Loss: 0.44\n",
      "Epochs: 014/020 | Batch 000/002 | Loss: 0.51\n",
      "Epochs: 014/020 | Batch 001/002 | Loss: 0.33\n",
      "Epochs: 015/020 | Batch 000/002 | Loss: 0.48\n",
      "Epochs: 015/020 | Batch 001/002 | Loss: 0.32\n",
      "Epochs: 016/020 | Batch 000/002 | Loss: 0.39\n",
      "Epochs: 016/020 | Batch 001/002 | Loss: 0.38\n",
      "Epochs: 017/020 | Batch 000/002 | Loss: 0.40\n",
      "Epochs: 017/020 | Batch 001/002 | Loss: 0.35\n",
      "Epochs: 018/020 | Batch 000/002 | Loss: 0.40\n",
      "Epochs: 018/020 | Batch 001/002 | Loss: 0.33\n",
      "Epochs: 019/020 | Batch 000/002 | Loss: 0.39\n",
      "Epochs: 019/020 | Batch 001/002 | Loss: 0.32\n",
      "Epochs: 020/020 | Batch 000/002 | Loss: 0.44\n",
      "Epochs: 020/020 | Batch 001/002 | Loss: 0.25\n"
     ]
    }
   ],
   "source": [
    "for epoch in range(num_epochs):\n",
    "  model = model.train()\n",
    "\n",
    "  for batch_idx, (features, labels) in enumerate(train_loader):\n",
    "    probas = model(features)\n",
    "    loss = F.binary_cross_entropy(probas, labels.view(probas.shape))\n",
    "\n",
    "    optimizer.zero_grad()\n",
    "    loss.backward()\n",
    "    optimizer.step()\n",
    "\n",
    "    # Logging\n",
    "    print(f'Epochs: {epoch + 1:03d}/{num_epochs:03d}'\n",
    "          f' | Batch {batch_idx:03d}/{len(train_loader):03d}'\n",
    "          f' | Loss: {loss:.2f}')"
   ]
  },
  {
   "cell_type": "markdown",
   "metadata": {},
   "source": [
    "### **Evaluation**"
   ]
  },
  {
   "cell_type": "code",
   "execution_count": 27,
   "metadata": {},
   "outputs": [
    {
     "data": {
      "text/plain": [
       "tensor([[0.8014],\n",
       "        [0.8373],\n",
       "        [0.7703],\n",
       "        [0.8583],\n",
       "        [0.7823],\n",
       "        [0.3029],\n",
       "        [0.9138],\n",
       "        [0.2584],\n",
       "        [0.2973],\n",
       "        [0.3152]], grad_fn=<SigmoidBackward0>)"
      ]
     },
     "execution_count": 27,
     "metadata": {},
     "output_type": "execute_result"
    }
   ],
   "source": [
    "probas"
   ]
  },
  {
   "cell_type": "code",
   "execution_count": 28,
   "metadata": {},
   "outputs": [
    {
     "data": {
      "text/plain": [
       "tensor([[1],\n",
       "        [1],\n",
       "        [1],\n",
       "        [1],\n",
       "        [1],\n",
       "        [0],\n",
       "        [1],\n",
       "        [0],\n",
       "        [0],\n",
       "        [0]])"
      ]
     },
     "execution_count": 28,
     "metadata": {},
     "output_type": "execute_result"
    }
   ],
   "source": [
    "# Convert probability scores to class labels\n",
    "preds = torch.where(probas > 0.5, 1, 0) # if a probability is > 0.5, return 1 otherwise 0\n",
    "preds"
   ]
  },
  {
   "cell_type": "code",
   "execution_count": 29,
   "metadata": {},
   "outputs": [
    {
     "data": {
      "text/plain": [
       "tensor([[1],\n",
       "        [1],\n",
       "        [1],\n",
       "        [1],\n",
       "        [1],\n",
       "        [0],\n",
       "        [1],\n",
       "        [0],\n",
       "        [0],\n",
       "        [0]])"
      ]
     },
     "execution_count": 29,
     "metadata": {},
     "output_type": "execute_result"
    }
   ],
   "source": [
    "labels.view(preds.shape).to(preds.dtype)"
   ]
  },
  {
   "cell_type": "code",
   "execution_count": 30,
   "metadata": {},
   "outputs": [],
   "source": [
    "def compute_accuracy(model, dataloader):\n",
    "  model = model.eval()\n",
    "  correct = 0.0\n",
    "  total_examples = 0\n",
    "\n",
    "  for idx, (features, labels) in enumerate(dataloader):\n",
    "    with torch.no_grad():\n",
    "      probas = model(features)\n",
    "    \n",
    "    pred = torch.where(probas > 0.5, 1, 0)\n",
    "    lab = labels.view(pred.shape).to(pred.dtype)\n",
    "\n",
    "    compare = lab == pred\n",
    "    correct += torch.sum(compare)\n",
    "    total_examples += len(compare)\n",
    "  \n",
    "  return correct / total_examples"
   ]
  },
  {
   "cell_type": "code",
   "execution_count": 31,
   "metadata": {},
   "outputs": [
    {
     "name": "stdout",
     "output_type": "stream",
     "text": [
      "Accuracy: 90.0%\n"
     ]
    }
   ],
   "source": [
    "train_acc = compute_accuracy(model, train_loader)\n",
    "print(f'Accuracy: {train_acc * 100}%')"
   ]
  },
  {
   "cell_type": "markdown",
   "metadata": {},
   "source": [
    "### **Visualization**"
   ]
  },
  {
   "cell_type": "code",
   "execution_count": 32,
   "metadata": {},
   "outputs": [
    {
     "data": {
      "image/png": "[encoded data removed]",
      "text/plain": [
       "<Figure size 640x480 with 1 Axes>"
      ]
     },
     "metadata": {},
     "output_type": "display_data"
    }
   ],
   "source": [
    "plt.plot(\n",
    "    X_train[y_train == 0, 0],\n",
    "    X_train[y_train == 0, 1],\n",
    "    marker=\"D\",\n",
    "    markersize=10,\n",
    "    linestyle=\"\",\n",
    "    label=\"Class 0\",\n",
    ")\n",
    "\n",
    "plt.plot(\n",
    "    X_train[y_train == 1, 0],\n",
    "    X_train[y_train == 1, 1],\n",
    "    marker=\"^\",\n",
    "    markersize=13,\n",
    "    linestyle=\"\",\n",
    "    label=\"Class 1\",\n",
    ")\n",
    "\n",
    "plt.legend(loc=2)\n",
    "\n",
    "plt.xlim([-5, 5])\n",
    "plt.ylim([-5, 5])\n",
    "\n",
    "plt.xlabel(\"Feature $x_1$\", fontsize=12)\n",
    "plt.ylabel(\"Feature $x_2$\", fontsize=12)\n",
    "\n",
    "\n",
    "plt.grid()\n",
    "plt.show()"
   ]
  },
  {
   "cell_type": "code",
   "execution_count": 33,
   "metadata": {},
   "outputs": [],
   "source": [
    "def plot_boundary(model):\n",
    "  w1 = model.linear.weight[0][0].detach()\n",
    "  w2 = model.linear.weight[0][1].detach()\n",
    "  b = model.linear.bias[0].detach()\n",
    "\n",
    "  x1_min = -20\n",
    "  x2_min = (-(w1 * x1_min) - b) / w2\n",
    "\n",
    "  x1_max = 20\n",
    "  x2_max = (-(w1 * x1_max) - b) / w2\n",
    "\n",
    "  return x1_min, x1_max, x2_min, x2_max"
   ]
  },
  {
   "cell_type": "code",
   "execution_count": 34,
   "metadata": {},
   "outputs": [
    {
     "data": {
      "image/png": "[encoded data removed]",
      "text/plain": [
       "<Figure size 640x480 with 1 Axes>"
      ]
     },
     "metadata": {},
     "output_type": "display_data"
    }
   ],
   "source": [
    "x1_min, x1_max, x2_min, x2_max = plot_boundary(model)\n",
    "\n",
    "plt.plot(\n",
    "    X_train[y_train == 0, 0],\n",
    "    X_train[y_train == 0, 1],\n",
    "    marker=\"D\",\n",
    "    markersize=10,\n",
    "    linestyle=\"\",\n",
    "    label=\"Class 0\",\n",
    ")\n",
    "\n",
    "plt.plot(\n",
    "    X_train[y_train == 1, 0],\n",
    "    X_train[y_train == 1, 1],\n",
    "    marker=\"^\",\n",
    "    markersize=13,\n",
    "    linestyle=\"\",\n",
    "    label=\"Class 1\",\n",
    ")\n",
    "\n",
    "plt.plot([x1_min, x1_max], [x2_min, x2_max], color=\"k\")\n",
    "\n",
    "plt.legend(loc=2)\n",
    "\n",
    "plt.xlim([-5, 5])\n",
    "plt.ylim([-5, 5])\n",
    "\n",
    "plt.xlabel(\"Feature $x_1$\", fontsize=12)\n",
    "plt.ylabel(\"Feature $x_2$\", fontsize=12)\n",
    "\n",
    "plt.grid()\n",
    "plt.show()"
   ]
  }
 ],
 "metadata": {
  "kernelspec": {
   "display_name": "py310",
   "language": "python",
   "name": "python3"
  },
  "language_info": {
   "codemirror_mode": {
    "name": "ipython",
    "version": 3
   },
   "file_extension": ".py",
   "mimetype": "text/x-python",
   "name": "python",
   "nbconvert_exporter": "python",
   "pygments_lexer": "ipython3",
   "version": "3.10.12"
  },
  "orig_nbformat": 4
 },
 "nbformat": 4,
 "nbformat_minor": 2
}
