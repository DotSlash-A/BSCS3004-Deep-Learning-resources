{
 "cells": [
  {
   "cell_type": "markdown",
   "metadata": {},
   "source": [
    "### **Derivatives**\n",
    "\n",
    "- Derivate usually applies to functions with one variable\n",
    "$$\n",
    "f(x) = x^{2} \\hspace{10mm} \\frac{df}{dx} = 2x\n",
    "$$"
   ]
  },
  {
   "cell_type": "markdown",
   "metadata": {},
   "source": [
    "### **Partial derivatives**\n",
    "- Derivative of functions which have more than one variable\n",
    "$$\n",
    "f(x, y) = x^{2} + y \\\\[10pt]\n",
    "\\frac{\\partial f}{\\partial x} = 2x \\hspace{10mm} \\frac{\\partial f}{\\partial y} = 1\n",
    "$$"
   ]
  },
  {
   "cell_type": "markdown",
   "metadata": {},
   "source": [
    "### **Gradients**\n",
    "\n",
    "$$\n",
    "f(x, y) = x^{2} + y \\\\[10pt]\n",
    "\\nabla f = \\begin{bmatrix} \\frac{\\partial f}{\\partial x} \\\\[5pt] \\frac{\\partial f}{\\partial y} \\end{bmatrix} = \\begin{bmatrix} 2x \\\\ 1 \\end{bmatrix}\n",
    "$$"
   ]
  }
 ],
 "metadata": {
  "kernelspec": {
   "display_name": "py310",
   "language": "python",
   "name": "python3"
  },
  "language_info": {
   "name": "python",
   "version": "3.10.12"
  },
  "orig_nbformat": 4
 },
 "nbformat": 4,
 "nbformat_minor": 2
}
