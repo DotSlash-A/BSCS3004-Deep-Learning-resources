{
 "cells": [
  {
   "cell_type": "markdown",
   "metadata": {},
   "source": [
    "### **Multilayer Perceptron for Regression**\n",
    "- Just remove the output layers\n",
    "  - We need the continuous value as output"
   ]
  },
  {
   "cell_type": "markdown",
   "metadata": {},
   "source": [
    "### **Loss function**\n",
    "**Mean Squared Error**\n",
    "$$\n",
    "MSE = \\frac{1}{N}\\sum^{N}_{i = 1}(y^{[i]} - \\hat{y}^{[i]})^{2}\n",
    "$$"
   ]
  },
  {
   "cell_type": "code",
   "execution_count": 1,
   "metadata": {},
   "outputs": [],
   "source": [
    "import torch\n",
    "\n",
    "import torch.nn.functional as F\n",
    "import matplotlib.pyplot as plt\n",
    "\n",
    "from torch.utils.data import DataLoader, Dataset"
   ]
  },
  {
   "cell_type": "code",
   "execution_count": 2,
   "metadata": {},
   "outputs": [],
   "source": [
    "X_train = torch.tensor([258.0, 270.0, 294.0, 320.0, 342.0, 368.0, 396.0, 446.0, 480.0, 586.0]).view(-1, 1)\n",
    "y_train = torch.tensor([236.4, 234.4, 252.8, 298.6, 314.2, 342.2, 360.8, 368.0, 391.2, 390.8])"
   ]
  },
  {
   "cell_type": "code",
   "execution_count": 3,
   "metadata": {},
   "outputs": [
    {
     "data": {
      "image/png": "[encoded data removed]",
      "text/plain": [
       "<Figure size 640x480 with 1 Axes>"
      ]
     },
     "metadata": {},
     "output_type": "display_data"
    }
   ],
   "source": [
    "plt.scatter(X_train, y_train)\n",
    "plt.xlabel(\"Feature variable\")\n",
    "plt.ylabel(\"Target variable\")\n",
    "\n",
    "plt.show()"
   ]
  },
  {
   "cell_type": "markdown",
   "metadata": {},
   "source": [
    "### **Multilayer Perceptron**"
   ]
  },
  {
   "cell_type": "code",
   "execution_count": 4,
   "metadata": {},
   "outputs": [],
   "source": [
    "class MLP(torch.nn.Module):\n",
    "  def __init__(self, num_features):\n",
    "    super().__init__()\n",
    "\n",
    "    self.layers = torch.nn.Sequential(\n",
    "      # 1st hidden layer\n",
    "      torch.nn.Linear(num_features, 50),\n",
    "      torch.nn.ReLU(),\n",
    "\n",
    "      # 2nd hidden layer\n",
    "      torch.nn.Linear(50, 25),\n",
    "      torch.nn.ReLU(),\n",
    "\n",
    "      # Output layer\n",
    "      torch.nn.Linear(25, 1)  # As there is only 1 output node\n",
    "    )\n",
    "  \n",
    "  def forward(self, x):\n",
    "    logits = self.layers(x).flatten()\n",
    "    return logits"
   ]
  },
  {
   "cell_type": "markdown",
   "metadata": {},
   "source": [
    "**Normalize**"
   ]
  },
  {
   "cell_type": "code",
   "execution_count": 5,
   "metadata": {},
   "outputs": [],
   "source": [
    "X_train_norm = (X_train - X_train.mean()) / X_train.std()\n",
    "y_train_norm = (y_train - y_train.mean()) / y_train.std()"
   ]
  },
  {
   "cell_type": "markdown",
   "metadata": {},
   "source": [
    "### **Define the dataset**"
   ]
  },
  {
   "cell_type": "code",
   "execution_count": 6,
   "metadata": {},
   "outputs": [],
   "source": [
    "class MyDataset(Dataset):\n",
    "  def __init__(self, X, y):\n",
    "    self.features = X\n",
    "    self.targets = y\n",
    "  \n",
    "  def __getitem__(self, idx):\n",
    "    x = self.features[idx]\n",
    "    y = self.targets[idx]\n",
    "\n",
    "    return x, y\n",
    "  \n",
    "  def __len__(self):\n",
    "    return self.targets.shape[0]"
   ]
  },
  {
   "cell_type": "code",
   "execution_count": 7,
   "metadata": {},
   "outputs": [],
   "source": [
    "train_ds = MyDataset(X_train_norm, y_train_norm)\n",
    "\n",
    "train_loader = DataLoader(\n",
    "  dataset = train_ds,\n",
    "  batch_size = 20,\n",
    "  shuffle = True\n",
    ")"
   ]
  },
  {
   "cell_type": "markdown",
   "metadata": {},
   "source": [
    "### **Define the training loop**"
   ]
  },
  {
   "cell_type": "code",
   "execution_count": 8,
   "metadata": {},
   "outputs": [],
   "source": [
    "torch.manual_seed(1)\n",
    "model = MLP(num_features = 1)\n",
    "optimizer = torch.optim.SGD(model.parameters(), lr = 0.1)"
   ]
  },
  {
   "cell_type": "code",
   "execution_count": 9,
   "metadata": {},
   "outputs": [],
   "source": [
    "epochs = 30\n",
    "loss_list = []\n",
    "train_acc_list = []\n",
    "val_acc_list = []"
   ]
  },
  {
   "cell_type": "code",
   "execution_count": 10,
   "metadata": {},
   "outputs": [
    {
     "name": "stdout",
     "output_type": "stream",
     "text": [
      "Epoch: 001/030 | Batch 000/001 | Train loss: 0.86\n",
      "Epoch: 002/030 | Batch 000/001 | Train loss: 0.63\n",
      "Epoch: 003/030 | Batch 000/001 | Train loss: 0.45\n",
      "Epoch: 004/030 | Batch 000/001 | Train loss: 0.29\n",
      "Epoch: 005/030 | Batch 000/001 | Train loss: 0.18\n",
      "Epoch: 006/030 | Batch 000/001 | Train loss: 0.11\n",
      "Epoch: 007/030 | Batch 000/001 | Train loss: 0.08\n",
      "Epoch: 008/030 | Batch 000/001 | Train loss: 0.07\n",
      "Epoch: 009/030 | Batch 000/001 | Train loss: 0.06\n",
      "Epoch: 010/030 | Batch 000/001 | Train loss: 0.05\n",
      "Epoch: 011/030 | Batch 000/001 | Train loss: 0.05\n",
      "Epoch: 012/030 | Batch 000/001 | Train loss: 0.04\n",
      "Epoch: 013/030 | Batch 000/001 | Train loss: 0.04\n",
      "Epoch: 014/030 | Batch 000/001 | Train loss: 0.04\n",
      "Epoch: 015/030 | Batch 000/001 | Train loss: 0.03\n",
      "Epoch: 016/030 | Batch 000/001 | Train loss: 0.03\n",
      "Epoch: 017/030 | Batch 000/001 | Train loss: 0.03\n",
      "Epoch: 018/030 | Batch 000/001 | Train loss: 0.02\n",
      "Epoch: 019/030 | Batch 000/001 | Train loss: 0.02\n",
      "Epoch: 020/030 | Batch 000/001 | Train loss: 0.02\n",
      "Epoch: 021/030 | Batch 000/001 | Train loss: 0.02\n",
      "Epoch: 022/030 | Batch 000/001 | Train loss: 0.02\n",
      "Epoch: 023/030 | Batch 000/001 | Train loss: 0.02\n",
      "Epoch: 024/030 | Batch 000/001 | Train loss: 0.02\n",
      "Epoch: 025/030 | Batch 000/001 | Train loss: 0.02\n",
      "Epoch: 026/030 | Batch 000/001 | Train loss: 0.02\n",
      "Epoch: 027/030 | Batch 000/001 | Train loss: 0.01\n",
      "Epoch: 028/030 | Batch 000/001 | Train loss: 0.01\n",
      "Epoch: 029/030 | Batch 000/001 | Train loss: 0.01\n",
      "Epoch: 030/030 | Batch 000/001 | Train loss: 0.01\n"
     ]
    }
   ],
   "source": [
    "for epoch in range(epochs):\n",
    "  model = model.train()\n",
    "\n",
    "  for batch_idx, (features, targets) in enumerate(train_loader):\n",
    "    logits = model(features)\n",
    "    loss = F.mse_loss(logits, targets)\n",
    "\n",
    "    optimizer.zero_grad()\n",
    "    loss.backward()\n",
    "    optimizer.step()\n",
    "\n",
    "    if not batch_idx % 250:\n",
    "      print(\n",
    "        f\"Epoch: {epoch + 1:03d}/{epochs:03d}\"\n",
    "        f\" | Batch {batch_idx:03d}/{len(train_loader):03d}\"\n",
    "        f\" | Train loss: {loss:.2f}\"\n",
    "      )\n",
    "    loss_list.append(loss.item())"
   ]
  },
  {
   "cell_type": "markdown",
   "metadata": {},
   "source": [
    "### **Get predictions**"
   ]
  },
  {
   "cell_type": "code",
   "execution_count": 11,
   "metadata": {},
   "outputs": [],
   "source": [
    "model.eval()\n",
    "\n",
    "X_range = torch.arange(150, 800, 0.1).view(-1, 1)\n",
    "X_range_norm = (X_range - X_range.mean()) / X_range.std()"
   ]
  },
  {
   "cell_type": "code",
   "execution_count": 12,
   "metadata": {},
   "outputs": [],
   "source": [
    "with torch.inference_mode():\n",
    "  y_hat_norm = model(X_range_norm)"
   ]
  },
  {
   "cell_type": "markdown",
   "metadata": {},
   "source": [
    "**Undo the normalization**"
   ]
  },
  {
   "cell_type": "code",
   "execution_count": 13,
   "metadata": {},
   "outputs": [],
   "source": [
    "y_hat = y_hat_norm * y_train.std() + y_train.mean()"
   ]
  },
  {
   "cell_type": "code",
   "execution_count": 14,
   "metadata": {},
   "outputs": [
    {
     "data": {
      "image/png": "[encoded data removed]",
      "text/plain": [
       "<Figure size 640x480 with 1 Axes>"
      ]
     },
     "metadata": {},
     "output_type": "display_data"
    }
   ],
   "source": [
    "plt.scatter(X_train, y_train, label = \"Training points\")\n",
    "plt.plot(X_range, y_hat, color = \"C1\", label = \"Multilayer Perceptron fit\", linestyle = \"-\")\n",
    "\n",
    "plt.xlabel(\"Feature variable\")\n",
    "plt.ylabel(\"Target variable\")\n",
    "plt.legend()\n",
    "\n",
    "plt.show()"
   ]
  },
  {
   "cell_type": "markdown",
   "metadata": {},
   "source": [
    "uhmmmm, something happened here"
   ]
  }
 ],
 "metadata": {
  "kernelspec": {
   "display_name": "python310",
   "language": "python",
   "name": "python3"
  },
  "language_info": {
   "codemirror_mode": {
    "name": "ipython",
    "version": 3
   },
   "file_extension": ".py",
   "mimetype": "text/x-python",
   "name": "python",
   "nbconvert_exporter": "python",
   "pygments_lexer": "ipython3",
   "version": "3.10.12"
  },
  "orig_nbformat": 4
 },
 "nbformat": 4,
 "nbformat_minor": 2
}
