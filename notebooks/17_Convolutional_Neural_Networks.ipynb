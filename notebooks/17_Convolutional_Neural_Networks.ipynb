{
 "cells": [
  {
   "cell_type": "markdown",
   "metadata": {},
   "source": [
    "### **Convolutional Neural Network**\n",
    "> Also known as ...\n",
    "- ConvNet\n",
    "- CNN\n",
    "\n",
    "**Unlike perceptrons, where each feature is considered independent, CNNs take locality into account.**\n",
    "- CNNs also learn to \"ignore\" parts of an image which are not relevant to the classification task at hand\n",
    "\n",
    "![](../images/typical_cnn_arch.png)\n",
    "\n",
    "**Another typical CNN architecture**\n",
    "![](../images/another_typical_cnn_arch.png)"
   ]
  },
  {
   "cell_type": "markdown",
   "metadata": {},
   "source": [
    "### **A typical CNN in PyTorch**"
   ]
  },
  {
   "cell_type": "code",
   "execution_count": 1,
   "metadata": {},
   "outputs": [],
   "source": [
    "import torch\n",
    "import torch.nn as nn"
   ]
  },
  {
   "cell_type": "code",
   "execution_count": null,
   "metadata": {},
   "outputs": [],
   "source": [
    "class CNN(nn.Module):\n",
    "  def __init__(self, num_classes):\n",
    "    super().__init__()\n",
    "\n",
    "    # ConvNet Layers\n",
    "    self.conv_layers = torch.nn.Sequential(\n",
    "      nn.Conv2d(...),\n",
    "      nn.MaxPool2d(...),\n",
    "      nn.Conv2d(...),\n",
    "      nn.MaxPool2d(...)\n",
    "    )\n",
    "\n",
    "    # Fully connected layers\n",
    "    self.fc_layers = torch.nn.Sequential(\n",
    "      nn.Linear(24 * 16 * 16, 256),\n",
    "      nn.ReLU(),\n",
    "      nn.Linear(256, 128),\n",
    "      nn.ReLU(),\n",
    "      nn.Linear(128, num_classes)\n",
    "    )\n",
    "  \n",
    "  def forward(self, x):\n",
    "    features = self.conv_layers(x)\n",
    "    features = torch.flatten(features, start_dim = 1)\n",
    "    logits = self.fc_layers(features)\n",
    "    return logits"
   ]
  },
  {
   "cell_type": "markdown",
   "metadata": {},
   "source": [
    "**When we apply a convolutional layer to an input image, we create a feature map**\n",
    "- In other words, we are sliding a kernel (filter) over the input image\n",
    "  - This process is called convolution\n",
    "\n",
    "![](../images/input_feature_map.png)\n",
    "\n",
    "![](../images/slide_kernel.png)\n",
    "\n",
    "- The inputs $x$'s differ as we slide over the image\n",
    "- The weights $w$'s do not differ $\\rightarrow$ **weight sharing**\n",
    "  - A feature detector that works well in one region of the image may also work well in another region of the image\n",
    "  - It reduces the complexity with a reduction of parameters to fit"
   ]
  },
  {
   "cell_type": "markdown",
   "metadata": {},
   "source": [
    "### **Convolutional Layer**"
   ]
  },
  {
   "cell_type": "code",
   "execution_count": 2,
   "metadata": {},
   "outputs": [],
   "source": [
    "layer = torch.nn.Conv2d(1, 1, kernel_size = 3)"
   ]
  },
  {
   "cell_type": "code",
   "execution_count": 3,
   "metadata": {},
   "outputs": [
    {
     "data": {
      "text/plain": [
       "Parameter containing:\n",
       "tensor([[[[ 0.2099, -0.1161, -0.2832],\n",
       "          [ 0.2440, -0.2846,  0.1624],\n",
       "          [-0.1812,  0.1874,  0.1140]]]], requires_grad=True)"
      ]
     },
     "execution_count": 3,
     "metadata": {},
     "output_type": "execute_result"
    }
   ],
   "source": [
    "layer.weight"
   ]
  },
  {
   "cell_type": "code",
   "execution_count": 4,
   "metadata": {},
   "outputs": [
    {
     "data": {
      "text/plain": [
       "Parameter containing:\n",
       "tensor([0.0253], requires_grad=True)"
      ]
     },
     "execution_count": 4,
     "metadata": {},
     "output_type": "execute_result"
    }
   ],
   "source": [
    "layer.bias"
   ]
  },
  {
   "cell_type": "markdown",
   "metadata": {},
   "source": [
    "**$1$ input channel, $3$ output channels**\n",
    "- On the left\n",
    "  - 1 channel\n",
    "  - 12 by 12 input size\n",
    "- On the right\n",
    "  - 3 channels\n",
    "  - 10 by 10 size\n",
    "- For each channel, we use a different set of weights\n",
    "  - In other words, we use a different \"feature detector\" (kernel) to create multiple feature maps\n",
    "\n",
    "![](../images/1_input_channel_3_output_channel.png)"
   ]
  },
  {
   "cell_type": "markdown",
   "metadata": {},
   "source": [
    "![](../images/first_channel_convolution.png)"
   ]
  },
  {
   "cell_type": "markdown",
   "metadata": {},
   "source": [
    "![](../images/second_channel_convolution.png)"
   ]
  },
  {
   "cell_type": "markdown",
   "metadata": {},
   "source": [
    "![](../images/third_channel_convolution.png)"
   ]
  },
  {
   "cell_type": "markdown",
   "metadata": {},
   "source": [
    "**Multiple input channels, single output channel**\n",
    "- Compute one feature map value for each of these input channels\n",
    "- Sum the values to compute feature map value for the output channel\n",
    "\n",
    "![](../images/3_input_1_output_channels.png)"
   ]
  },
  {
   "cell_type": "markdown",
   "metadata": {},
   "source": [
    "**Multiple input channels, multiple output channels**\n",
    "\n",
    "![](../images/multiple_input_multiple_output_channels.png)"
   ]
  },
  {
   "cell_type": "code",
   "execution_count": 5,
   "metadata": {},
   "outputs": [],
   "source": [
    "layer = torch.nn.Conv2d(in_channels = 3, out_channels = 5, kernel_size = 2)"
   ]
  },
  {
   "cell_type": "code",
   "execution_count": 6,
   "metadata": {},
   "outputs": [
    {
     "data": {
      "text/plain": [
       "torch.Size([5, 3, 2, 2])"
      ]
     },
     "execution_count": 6,
     "metadata": {},
     "output_type": "execute_result"
    }
   ],
   "source": [
    "layer.weight.shape"
   ]
  }
 ],
 "metadata": {
  "kernelspec": {
   "display_name": "python310",
   "language": "python",
   "name": "python3"
  },
  "language_info": {
   "codemirror_mode": {
    "name": "ipython",
    "version": 3
   },
   "file_extension": ".py",
   "mimetype": "text/x-python",
   "name": "python",
   "nbconvert_exporter": "python",
   "pygments_lexer": "ipython3",
   "version": "3.10.12"
  },
  "orig_nbformat": 4
 },
 "nbformat": 4,
 "nbformat_minor": 2
}
