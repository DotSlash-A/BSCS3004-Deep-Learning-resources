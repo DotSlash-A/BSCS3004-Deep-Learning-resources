{
 "cells": [
  {
   "cell_type": "markdown",
   "metadata": {},
   "source": [
    "## **Motivation from Biological Neuron** 🧠\n",
    "\n",
    "The most fundamental unit of a deep neural network is called an artificial neuron\n",
    "\n",
    "<image src=\"./assets/artificial-neuron.png\" alt=\"Artificial Neuron\" height=\"256\" />\n"
   ]
  },
  {
   "cell_type": "markdown",
   "metadata": {},
   "source": [
    "## **McCulloch-Pitts Neuron** 🕸️\n",
    "<image src=\"./assets/mp-neuron.png\" alt=\"MP Neuron\" height=\"256\" />\n",
    "\n",
    "- Binary inputs\n",
    "- Based on the aggregation of inputs, decides an output (Yes/No type answer)\n",
    "- $g$ aggregates the inputs and the function $f$ takes a decision based on this aggregation\n",
    "- The inputs can be excitatory or inhibitory\n",
    "  - ***Inhibitory input:*** If that input is ON (1), the other inputs are essentially discarded and the output becomes zero (0)\n",
    "- $y = 0$ if any $x_{i}$ is inhibitory, else\n",
    "$$\n",
    "g(x_{1}, x_{2}, ..., x_{n}) = g(x) = \\sum^{n}_{i = 1} x_{i} \\\\[10pt]\n",
    "$$\n",
    "$$\n",
    "y = f(g(x)) = 1, \\hspace{5pt} \\text{if } g(x) \\geq \\theta \\\\[5pt]\n",
    "$$\n",
    "$$\n",
    "y = f(g(x)) = 0, \\hspace{5pt} \\text{if } g(x) \\lt \\theta \\\\[10pt]\n",
    "$$\n",
    "$$\n",
    "\\theta \\hspace{4pt} \\text{is called the thresholding parameter}\n",
    "$$"
   ]
  },
  {
   "cell_type": "markdown",
   "metadata": {},
   "source": [
    "**Boolean function**\n",
    "- Takes boolean inputs\n",
    "- Gives boolean outputs"
   ]
  },
  {
   "cell_type": "markdown",
   "metadata": {},
   "source": [
    "#### **Examples**\n",
    "<image src=\"./assets/mp-neuron-2.png\" alt=\"MP Neuron types\" height=\"256\" />"
   ]
  },
  {
   "cell_type": "markdown",
   "metadata": {},
   "source": [
    "### **`Example code`**"
   ]
  },
  {
   "cell_type": "code",
   "execution_count": 1,
   "metadata": {},
   "outputs": [
    {
     "name": "stdout",
     "output_type": "stream",
     "text": [
      "Note: you may need to restart the kernel to use updated packages.\n"
     ]
    }
   ],
   "source": [
    "%pip install numpy -q"
   ]
  },
  {
   "cell_type": "code",
   "execution_count": 2,
   "metadata": {},
   "outputs": [],
   "source": [
    "import numpy as np"
   ]
  },
  {
   "cell_type": "code",
   "execution_count": 3,
   "metadata": {},
   "outputs": [],
   "source": [
    "X = np.array([\n",
    "  [0, 0, 0],\n",
    "  [0, 0, 1],\n",
    "  [0, 1, 0],\n",
    "  [0, 1, 1],\n",
    "  [1, 0, 0],\n",
    "  [1, 0, 1],\n",
    "  [1, 1, 0],\n",
    "  [1, 1, 1],\n",
    "])"
   ]
  },
  {
   "cell_type": "code",
   "execution_count": 15,
   "metadata": {},
   "outputs": [],
   "source": [
    "def AND(x):\n",
    "  THETA = 3\n",
    "  y = np.zeros(len(x))\n",
    "  \n",
    "  for i, x_ in enumerate(x):\n",
    "    y[i] = 1 if np.sum(x_) >= THETA else 0\n",
    "  \n",
    "  return y"
   ]
  },
  {
   "cell_type": "code",
   "execution_count": 16,
   "metadata": {},
   "outputs": [
    {
     "data": {
      "text/plain": [
       "array([0., 0., 0., 0., 0., 0., 0., 1.])"
      ]
     },
     "execution_count": 16,
     "metadata": {},
     "output_type": "execute_result"
    }
   ],
   "source": [
    "y = AND(X)\n",
    "y"
   ]
  },
  {
   "cell_type": "code",
   "execution_count": 17,
   "metadata": {},
   "outputs": [],
   "source": [
    "def OR(x):\n",
    "  THETA = 1\n",
    "  y = np.zeros(len(x))\n",
    "\n",
    "  for i, x_ in enumerate(x):\n",
    "    y[i] = 1 if np.sum(x_) >= THETA else 0\n",
    "  \n",
    "  return y"
   ]
  },
  {
   "cell_type": "code",
   "execution_count": 19,
   "metadata": {},
   "outputs": [
    {
     "data": {
      "text/plain": [
       "array([0., 1., 1., 1., 1., 1., 1., 1.])"
      ]
     },
     "execution_count": 19,
     "metadata": {},
     "output_type": "execute_result"
    }
   ],
   "source": [
    "y = OR(X)\n",
    "y"
   ]
  },
  {
   "cell_type": "markdown",
   "metadata": {},
   "source": [
    "### **Geometric interpretation of the OR function**\n",
    "\n",
    "<p align=\"center\">\n",
    "  <image src=\"./assets/OR-MP_neuron.png\" alt=\"MP Neuron (OR)\" height=\"256\" />\n",
    "</p>\n",
    "\n",
    "$$\n",
    "x_{1} + x_{2} = \\sum^{2}_{i = 1} x_{i} \\geq 1\n",
    "$$\n",
    "\n",
    "- All inputs which produce the output $0$ will be on one side $\\sum^{n}_{i = 1} x_{i} \\lt \\theta$ of the line\n",
    "- All inputs which produce the output $1$ will be on the other side $\\sum^{n}_{i = 1} x_{i} \\geq \\theta$ of the line"
   ]
  },
  {
   "cell_type": "code",
   "execution_count": 11,
   "metadata": {},
   "outputs": [
    {
     "data": {
      "text/html": [
       "\n",
       "        <iframe\n",
       "            width=\"800\"\n",
       "            height=\"571.5\"\n",
       "            src=\"https://www.geogebra.org/material/iframe/id/mahjpakn/width/700/height/500/border/888888/sfsb/true/smb/false/stb/false/stbh/false/ai/false/asb/false/sri/false/rc/false/ld/false/sdz/true/ctl/false?style=border%3A+1px+solid+black\"\n",
       "            frameborder=\"0\"\n",
       "            allowfullscreen\n",
       "            \n",
       "        ></iframe>\n",
       "        "
      ],
      "text/plain": [
       "<IPython.lib.display.IFrame at 0x7fb1e0455cd0>"
      ]
     },
     "execution_count": 11,
     "metadata": {},
     "output_type": "execute_result"
    }
   ],
   "source": [
    "# Hold Shift + Left click to pan the graph\n",
    "from IPython.display import IFrame\n",
    "IFrame(\n",
    "  'https://www.geogebra.org/material/iframe/id/mahjpakn/width/700/height/500/border/888888/sfsb/true/smb/false/stb/false/stbh/false/ai/false/asb/false/sri/false/rc/false/ld/false/sdz/true/ctl/false',\n",
    "  width = 800,\n",
    "  height = 571.5,\n",
    "  style = 'border: 1px solid black'\n",
    ")"
   ]
  },
  {
   "cell_type": "markdown",
   "metadata": {},
   "source": [
    "**What if we have more than 2 inputs?**\n",
    "- Instead of a line, we will have a plane"
   ]
  },
  {
   "cell_type": "code",
   "execution_count": 12,
   "metadata": {},
   "outputs": [
    {
     "data": {
      "text/html": [
       "\n",
       "        <iframe\n",
       "            width=\"800\"\n",
       "            height=\"571.5\"\n",
       "            src=\"https://www.geogebra.org/material/iframe/id/qekt8th2/width/700/height/500/border/888888/sfsb/true/smb/false/stb/false/stbh/false/ai/false/asb/false/sri/false/rc/false/ld/false/sdz/true/ctl/false?style=border%3A+1px+solid+black\"\n",
       "            frameborder=\"0\"\n",
       "            allowfullscreen\n",
       "            \n",
       "        ></iframe>\n",
       "        "
      ],
      "text/plain": [
       "<IPython.lib.display.IFrame at 0x7fb1e04569d0>"
      ]
     },
     "execution_count": 12,
     "metadata": {},
     "output_type": "execute_result"
    }
   ],
   "source": [
    "# Hold Shift + Left click to pan the graph\n",
    "from IPython.display import IFrame\n",
    "IFrame(\n",
    "  'https://www.geogebra.org/material/iframe/id/qekt8th2/width/700/height/500/border/888888/sfsb/true/smb/false/stb/false/stbh/false/ai/false/asb/false/sri/false/rc/false/ld/false/sdz/true/ctl/false',\n",
    "  width = 800,\n",
    "  height = 571.5,\n",
    "  style = 'border: 1px solid black'\n",
    ")"
   ]
  },
  {
   "cell_type": "markdown",
   "metadata": {},
   "source": [
    "## **Perceptrons**\n",
    "\n",
    "<p align=\"center\">\n",
    "  <image src=\"./assets/perceptron.png\" alt=\"Perceptron\" height=\"256\" />\n",
    "</p>\n",
    "\n",
    "- It is a more general computation model compared to MP neuron\n",
    "- This introduced numerical weights for inputs and a mechanism for learning these weights\n",
    "- Inputs were no longer limited to boolean values\n",
    "\n",
    "$$\n",
    "y = 1 \\hspace{10pt} \\text{if} \\sum^{n}_{i = 1} w_{i} \\ast x_{i} \\geq \\theta\n",
    "$$\n",
    "$$\n",
    "y = 0 \\hspace{10pt} \\text{if} \\sum^{n}_{i = 1} w_{i} \\ast x_{i} \\lt \\theta\n",
    "$$\n",
    "and the above equations can be re-written as\n",
    "$$\n",
    "y = 1 \\hspace{10pt} \\text{if} \\sum^{n}_{i = 1} w_{i} \\ast x_{i} - \\theta \\geq 0\n",
    "$$\n",
    "$$\n",
    "y = 0 \\hspace{10pt} \\text{if} \\sum^{n}_{i = 1} w_{i} \\ast x_{i} - \\theta \\lt 0\n",
    "$$\n",
    "which again can be simplified to a more accepted convention\n",
    "$$\n",
    "y = 1 \\hspace{10pt} \\text{if} \\sum^{n}_{i = 0} w_{i} \\ast x_{i} \\geq 0\n",
    "$$\n",
    "$$\n",
    "y = 0 \\hspace{10pt} \\text{if} \\sum^{n}_{i = 0} w_{i} \\ast x_{i} \\lt 0\n",
    "$$\n",
    "where $x_{0} = 1$ and $w_{0} = - \\theta$"
   ]
  }
 ],
 "metadata": {
  "kernelspec": {
   "display_name": "DL",
   "language": "python",
   "name": "python3"
  },
  "language_info": {
   "codemirror_mode": {
    "name": "ipython",
    "version": 3
   },
   "file_extension": ".py",
   "mimetype": "text/x-python",
   "name": "python",
   "nbconvert_exporter": "python",
   "pygments_lexer": "ipython3",
   "version": "3.11.5"
  }
 },
 "nbformat": 4,
 "nbformat_minor": 2
}
