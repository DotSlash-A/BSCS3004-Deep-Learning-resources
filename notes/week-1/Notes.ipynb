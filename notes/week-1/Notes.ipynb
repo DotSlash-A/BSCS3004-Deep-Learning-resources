{
 "cells": [
  {
   "cell_type": "markdown",
   "metadata": {},
   "source": [
    "## **Motivation from Biological Neuron** 🧠\n",
    "\n",
    "The most fundamental unit of a deep neural network is called an artificial neuron\n",
    "\n",
    "<image src=\"./assets/artificial-neuron.png\" alt=\"Artificial Neuron\" height=\"256\" />\n"
   ]
  },
  {
   "cell_type": "markdown",
   "metadata": {},
   "source": [
    "## **McCulloch-Pitts Neuron** 🕸️\n",
    "<image src=\"./assets/mp-neuron.png\" alt=\"MP Neuron\" height=\"256\" />\n",
    "\n",
    "- Binary inputs\n",
    "- Based on the aggregation of inputs, decides an output (Yes/No type answer)\n",
    "- $g$ aggregates the inputs and the function $f$ takes a decision based on this aggregation\n",
    "- The inputs can be excitatory or inhibitory\n",
    "  - ***Inhibitory input:*** If that input is ON (1), the other inputs are essentially discarded and the output becomes zero (0)\n",
    "- $y = 0$ if any $x_{i}$ is inhibitory, else\n",
    "$$\n",
    "g(x_{1}, x_{2}, ..., x_{n}) = g(x) = \\sum^{n}_{i = 1} x_{i} \\\\[10pt]\n",
    "y = f(g(x)) = 1, \\hspace{5pt} \\text{if } g(x) \\geq \\theta \\\\[5pt]\n",
    "y = f(g(x)) = 0, \\hspace{5pt} \\text{if } g(x) \\lt \\theta \\\\[10pt]\n",
    "\\theta \\hspace{4pt} \\text{is called the thresholding parameter}\n",
    "$$"
   ]
  },
  {
   "cell_type": "markdown",
   "metadata": {},
   "source": [
    "**Boolean function**\n",
    "- Takes boolean inputs\n",
    "- Gives boolean outputs"
   ]
  },
  {
   "cell_type": "markdown",
   "metadata": {},
   "source": [
    "#### **Examples**\n",
    "<image src=\"./assets/mp-neuron-2.png\" alt=\"MP Neuron types\" height=\"256\" />"
   ]
  },
  {
   "cell_type": "markdown",
   "metadata": {},
   "source": [
    "### **`Example code`**"
   ]
  },
  {
   "cell_type": "code",
   "execution_count": 1,
   "metadata": {},
   "outputs": [
    {
     "name": "stdout",
     "output_type": "stream",
     "text": [
      "Note: you may need to restart the kernel to use updated packages.\n"
     ]
    }
   ],
   "source": [
    "%pip install numpy -q"
   ]
  },
  {
   "cell_type": "code",
   "execution_count": 2,
   "metadata": {},
   "outputs": [],
   "source": [
    "import numpy as np"
   ]
  },
  {
   "cell_type": "code",
   "execution_count": 3,
   "metadata": {},
   "outputs": [],
   "source": [
    "X = np.array([\n",
    "  [0, 0, 0],\n",
    "  [0, 0, 1],\n",
    "  [0, 1, 0],\n",
    "  [0, 1, 1],\n",
    "  [1, 0, 0],\n",
    "  [1, 0, 1],\n",
    "  [1, 1, 0],\n",
    "  [1, 1, 1],\n",
    "])"
   ]
  },
  {
   "cell_type": "code",
   "execution_count": 15,
   "metadata": {},
   "outputs": [],
   "source": [
    "def AND(x):\n",
    "  THETA = 3\n",
    "  y = np.zeros(len(x))\n",
    "  \n",
    "  for i, x_ in enumerate(x):\n",
    "    y[i] = 1 if np.sum(x_) >= THETA else 0\n",
    "  \n",
    "  return y"
   ]
  },
  {
   "cell_type": "code",
   "execution_count": 16,
   "metadata": {},
   "outputs": [
    {
     "data": {
      "text/plain": [
       "array([0., 0., 0., 0., 0., 0., 0., 1.])"
      ]
     },
     "execution_count": 16,
     "metadata": {},
     "output_type": "execute_result"
    }
   ],
   "source": [
    "y = AND(X)\n",
    "y"
   ]
  }
 ],
 "metadata": {
  "kernelspec": {
   "display_name": "DL",
   "language": "python",
   "name": "python3"
  },
  "language_info": {
   "codemirror_mode": {
    "name": "ipython",
    "version": 3
   },
   "file_extension": ".py",
   "mimetype": "text/x-python",
   "name": "python",
   "nbconvert_exporter": "python",
   "pygments_lexer": "ipython3",
   "version": "3.11.5"
  }
 },
 "nbformat": 4,
 "nbformat_minor": 2
}
